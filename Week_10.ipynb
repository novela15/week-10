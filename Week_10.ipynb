{
  "nbformat": 4,
  "nbformat_minor": 0,
  "metadata": {
    "colab": {
      "provenance": []
    },
    "kernelspec": {
      "name": "python3",
      "display_name": "Python 3"
    },
    "language_info": {
      "name": "python"
    }
  },
  "cells": [
    {
      "cell_type": "markdown",
      "source": [
        "# **Weekly Exercise 1**"
      ],
      "metadata": {
        "id": "fjSa-6RLjBlQ"
      }
    },
    {
      "cell_type": "code",
      "execution_count": 2,
      "metadata": {
        "colab": {
          "base_uri": "https://localhost:8080/"
        },
        "id": "FfhtjQLFEyXD",
        "outputId": "b8d7876f-704a-4527-ad3f-127d44daaba9"
      },
      "outputs": [
        {
          "output_type": "stream",
          "name": "stdout",
          "text": [
            "Masukkan bilangan: 5\n",
            "Faktorial dari 5 adalah 120\n"
          ]
        }
      ],
      "source": [
        "def faktorial(n):\n",
        " if n == 0:\n",
        "    return 1\n",
        " else:\n",
        "    return n * faktorial(n-1)\n",
        "\n",
        "bilangan = int(input(\"Masukkan bilangan: \"))\n",
        "\n",
        "if bilangan < 0:\n",
        "  print(\"Faktorial tidak terdefinisi untuk bilangan negatif.\")\n",
        "else:\n",
        "  hasil = faktorial(bilangan)\n",
        "  print(\"Faktorial dari\", bilangan, \"adalah\", hasil)"
      ]
    },
    {
      "cell_type": "markdown",
      "source": [
        "# **Weekly Exercise 2**"
      ],
      "metadata": {
        "id": "_qUTHirMkDb-"
      }
    },
    {
      "cell_type": "code",
      "source": [
        "import math\n",
        "\n",
        "def hitung_luas_lingkaran():\n",
        "  jari_jari = float(input(\"Masukkan jari-jari lingkaran: \"))\n",
        "  luas = math.pi * (jari_jari ** 2)\n",
        "  print(\"Luas lingkaran adalah:\", luas)\n",
        "\n",
        "def hitung_luas_persegi():\n",
        "  sisi = float(input(\"Masukkan panjang sisi persegi: \"))\n",
        "  luas = sisi ** 2\n",
        "  print(\"Luas persegi adalah:\", luas)\n",
        "\n",
        "def hitung_luas_segitiga():\n",
        "  alas = float(input(\"Masukkan panjang alas segitiga: \"))\n",
        "  tinggi = float(input(\"Masukkan tinggi segitiga: \"))\n",
        "  luas = 0.5 * alas * tinggi\n",
        "  print(\"Luas segitiga adalah:\", luas)\n",
        "\n",
        "while True:\n",
        "  print(\"\\nPilih perhitungan luas bangun datar:\")\n",
        "  print(\"1. Lingkaran\")\n",
        "  print(\"2. Persegi\")\n",
        "  print(\"3. Segitiga\")\n",
        "  print(\"4. Keluar\")\n",
        "\n",
        "  pilihan = input(\"Masukkan pilihan Anda (1/2/3/4): \")\n",
        "\n",
        "  if pilihan == '1':\n",
        "    hitung_luas_lingkaran()\n",
        "  elif pilihan == '2':\n",
        "    hitung_luas_persegi()\n",
        "  elif pilihan == '3':\n",
        "    hitung_luas_segitiga()\n",
        "  elif pilihan == '4':\n",
        "    print(\"Terima kasih!\")\n",
        "    break\n",
        "  else:\n",
        "    print(\"Pilihan tidak valid. Silakan coba lagi.\")"
      ],
      "metadata": {
        "colab": {
          "base_uri": "https://localhost:8080/"
        },
        "id": "CLy5e0FbcViv",
        "outputId": "e68f3d68-de48-4416-b3a3-bac48a29ce78"
      },
      "execution_count": null,
      "outputs": [
        {
          "output_type": "stream",
          "name": "stdout",
          "text": [
            "\n",
            "Pilih perhitungan luas bangun datar:\n",
            "1. Lingkaran\n",
            "2. Persegi\n",
            "3. Segitiga\n",
            "4. Keluar\n",
            "Masukkan pilihan Anda (1/2/3/4): 1\n",
            "Masukkan jari-jari lingkaran: 57\n",
            "Luas lingkaran adalah: 10207.034531513238\n",
            "\n",
            "Pilih perhitungan luas bangun datar:\n",
            "1. Lingkaran\n",
            "2. Persegi\n",
            "3. Segitiga\n",
            "4. Keluar\n",
            "Masukkan pilihan Anda (1/2/3/4): 2\n",
            "Masukkan panjang sisi persegi: 56\n",
            "Luas persegi adalah: 3136.0\n",
            "\n",
            "Pilih perhitungan luas bangun datar:\n",
            "1. Lingkaran\n",
            "2. Persegi\n",
            "3. Segitiga\n",
            "4. Keluar\n",
            "Masukkan pilihan Anda (1/2/3/4): 4\n",
            "Terima kasih!\n"
          ]
        }
      ]
    }
  ]
}